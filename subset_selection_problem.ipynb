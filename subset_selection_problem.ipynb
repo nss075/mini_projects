{
  "nbformat": 4,
  "nbformat_minor": 0,
  "metadata": {
    "colab": {
      "provenance": [],
      "authorship_tag": "ABX9TyODZwXPRKtsxyapPkJk7rwy",
      "include_colab_link": true
    },
    "kernelspec": {
      "name": "python3",
      "display_name": "Python 3"
    },
    "language_info": {
      "name": "python"
    }
  },
  "cells": [
    {
      "cell_type": "markdown",
      "metadata": {
        "id": "view-in-github",
        "colab_type": "text"
      },
      "source": [
        "<a href=\"https://colab.research.google.com/github/nss075/mini_projects/blob/main/subset_selection_problem.ipynb\" target=\"_parent\"><img src=\"https://colab.research.google.com/assets/colab-badge.svg\" alt=\"Open In Colab\"/></a>"
      ]
    },
    {
      "cell_type": "code",
      "execution_count": null,
      "metadata": {
        "colab": {
          "base_uri": "https://localhost:8080/"
        },
        "id": "_N4r3mZQwlws",
        "outputId": "a3631f1d-9dc5-47c3-e551-217dd83d053d"
      },
      "outputs": [
        {
          "output_type": "stream",
          "name": "stdout",
          "text": [
            "(-7, -3, 7, 1, 2)\n",
            "(-5, 11, 1, 2, -9)\n",
            "(11, -12, -7, 2, 6)\n",
            "(3, 9, 1, -8, -5)\n",
            "(7, -9, -5, -4, 11)\n",
            "(-3, 11, -9, -8, 9)\n",
            "(7, 1, 2, -4, -6)\n",
            "(1, 9, -9, -12, 11)\n",
            "(-2, 6, 7, -8, -3)\n",
            "(7, 6, -9, 2, -6)\n",
            "(-3, 2, -2, 11, -8)\n",
            "(7, 9, -8, -6, -2)\n",
            "(1, 11, 9, -12, -9)\n",
            "(3, -7, -3, -4, 11)\n",
            "(1, -6, 2, 7, -4)\n",
            "(-3, -2, 1, -7, 11)\n",
            "(2, -5, -6, 3, 6)\n",
            "(-6, 3, -4, 9, -2)\n",
            "(2, -2, 6, 1, -7)\n",
            "(7, 3, 2, -3, -9)\n",
            "(3, 2, -5, -9, 9)\n",
            "(9, -12, 3, -2, 2)\n",
            "(-6, 6, -5, -4, 9)\n",
            "(-5, -7, -8, 11, 9)\n",
            "(2, 9, -12, 7, -6)\n",
            "(-2, -12, 2, 9, 3)\n",
            "(11, 2, -2, -5, -6)\n",
            "(-4, 11, -7, -6, 6)\n",
            "(11, -6, 1, 3, -9)\n",
            "(9, -5, -2, 2, -4)\n",
            "\n",
            "Total Sets 30\n"
          ]
        },
        {
          "output_type": "stream",
          "name": "stderr",
          "text": [
            "<ipython-input-2-6ffc6b93f9e6>:7: DeprecationWarning: Sampling from a set deprecated\n",
            "since Python 3.9 and will be removed in a subsequent version.\n",
            "  a = r.sample(S,SSize)\n"
          ]
        }
      ],
      "source": [
        "import random as r\n",
        "S = set([-12, -3, -6, 7, 2, -2, 6, 3, 9, -7, -5, -8, 1, 11, -9, -4])\n",
        "SSize = 5\n",
        "L = set()\n",
        "Iterations = 1000\n",
        "for i in range(Iterations):\n",
        "  a = r.sample(S,SSize)\n",
        "  if sum(a)==0:\n",
        "    L.add(tuple(a))\n",
        "\n",
        "for r in L:\n",
        "  print(r)\n",
        "\n",
        "print(\"\\nTotal Sets\",len(L))"
      ]
    }
  ]
}