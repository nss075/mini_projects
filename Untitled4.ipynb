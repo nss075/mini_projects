{
  "nbformat": 4,
  "nbformat_minor": 0,
  "metadata": {
    "colab": {
      "provenance": [],
      "authorship_tag": "ABX9TyOAgLMFRRi2xS7Dka9T8KyR",
      "include_colab_link": true
    },
    "kernelspec": {
      "name": "python3",
      "display_name": "Python 3"
    },
    "language_info": {
      "name": "python"
    }
  },
  "cells": [
    {
      "cell_type": "markdown",
      "metadata": {
        "id": "view-in-github",
        "colab_type": "text"
      },
      "source": [
        "<a href=\"https://colab.research.google.com/github/nss075/proj_new_1/blob/main/Untitled4.ipynb\" target=\"_parent\"><img src=\"https://colab.research.google.com/assets/colab-badge.svg\" alt=\"Open In Colab\"/></a>"
      ]
    },
    {
      "cell_type": "code",
      "execution_count": 2,
      "metadata": {
        "colab": {
          "base_uri": "https://localhost:8080/"
        },
        "id": "_N4r3mZQwlws",
        "outputId": "a3631f1d-9dc5-47c3-e551-217dd83d053d"
      },
      "outputs": [
        {
          "output_type": "stream",
          "name": "stdout",
          "text": [
            "(-7, -3, 7, 1, 2)\n",
            "(-5, 11, 1, 2, -9)\n",
            "(11, -12, -7, 2, 6)\n",
            "(3, 9, 1, -8, -5)\n",
            "(7, -9, -5, -4, 11)\n",
            "(-3, 11, -9, -8, 9)\n",
            "(7, 1, 2, -4, -6)\n",
            "(1, 9, -9, -12, 11)\n",
            "(-2, 6, 7, -8, -3)\n",
            "(7, 6, -9, 2, -6)\n",
            "(-3, 2, -2, 11, -8)\n",
            "(7, 9, -8, -6, -2)\n",
            "(1, 11, 9, -12, -9)\n",
            "(3, -7, -3, -4, 11)\n",
            "(1, -6, 2, 7, -4)\n",
            "(-3, -2, 1, -7, 11)\n",
            "(2, -5, -6, 3, 6)\n",
            "(-6, 3, -4, 9, -2)\n",
            "(2, -2, 6, 1, -7)\n",
            "(7, 3, 2, -3, -9)\n",
            "(3, 2, -5, -9, 9)\n",
            "(9, -12, 3, -2, 2)\n",
            "(-6, 6, -5, -4, 9)\n",
            "(-5, -7, -8, 11, 9)\n",
            "(2, 9, -12, 7, -6)\n",
            "(-2, -12, 2, 9, 3)\n",
            "(11, 2, -2, -5, -6)\n",
            "(-4, 11, -7, -6, 6)\n",
            "(11, -6, 1, 3, -9)\n",
            "(9, -5, -2, 2, -4)\n",
            "\n",
            "Total Sets 30\n"
          ]
        },
        {
          "output_type": "stream",
          "name": "stderr",
          "text": [
            "<ipython-input-2-6ffc6b93f9e6>:7: DeprecationWarning: Sampling from a set deprecated\n",
            "since Python 3.9 and will be removed in a subsequent version.\n",
            "  a = r.sample(S,SSize)\n"
          ]
        }
      ],
      "source": [
        "import random as r\n",
        "S = set([-12, -3, -6, 7, 2, -2, 6, 3, 9, -7, -5, -8, 1, 11, -9, -4])\n",
        "SSize = 5\n",
        "L = set()\n",
        "Iterations = 1000\n",
        "for i in range(Iterations):\n",
        "  a = r.sample(S,SSize)\n",
        "  if sum(a)==0:\n",
        "    L.add(tuple(a))\n",
        "\n",
        "for r in L:\n",
        "  print(r)\n",
        "\n",
        "print(\"\\nTotal Sets\",len(L))"
      ]
    },
    {
      "cell_type": "code",
      "source": [
        "import random as r\n",
        "\n",
        "\n",
        "ProductList = {'p1':10, 'p2':15, 'p3':20, 'p4':25, 'p5':30, 'p6':35, 'p7':50,\n",
        "               'p8':40, 'p9':55, 'p10':60, 'p11':65, 'p12':75, 'p13':70,\n",
        "               'p14':45}\n",
        "LB          = 290\n",
        "UB          = 310\n",
        "ResultList  = set()   \n",
        "Iterations  = 1000    \n",
        "\n",
        "\n",
        "\n",
        "for i in range(Iterations):\n",
        "\n",
        "  \n",
        "    SetSize = r.randint(2, len(ProductList)-1)\n",
        "\n",
        "    \n",
        "    ComboList = r.sample(list(ProductList.keys()),SetSize)\n",
        "    ComboList.sort()\n",
        "\n",
        "    ComboSum = sum([ ProductList[i] for i in ComboLi"
      ],
      "metadata": {
        "colab": {
          "base_uri": "https://localhost:8080/",
          "height": 130
        },
        "id": "JlVzMcBAwvJh",
        "outputId": "e558865b-98d1-44ba-c610-8932dd8c8e10"
      },
      "execution_count": 3,
      "outputs": [
        {
          "output_type": "error",
          "ename": "SyntaxError",
          "evalue": "ignored",
          "traceback": [
            "\u001b[0;36m  File \u001b[0;32m\"<ipython-input-3-9e897ab38941>\"\u001b[0;36m, line \u001b[0;32m23\u001b[0m\n\u001b[0;31m    ComboSum = sum([ ProductList[i] for i in ComboLi\u001b[0m\n\u001b[0m                                                    ^\u001b[0m\n\u001b[0;31mSyntaxError\u001b[0m\u001b[0;31m:\u001b[0m incomplete input\n"
          ]
        }
      ]
    }
  ]
}